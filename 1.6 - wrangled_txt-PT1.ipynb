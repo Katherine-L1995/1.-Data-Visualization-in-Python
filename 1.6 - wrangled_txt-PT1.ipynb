{
 "cells": [
  {
   "cell_type": "code",
   "execution_count": 1,
   "id": "4b7561b5-252a-4fa6-858c-9f0fb87f2616",
   "metadata": {},
   "outputs": [],
   "source": [
    "import pandas as pd"
   ]
  },
  {
   "cell_type": "code",
   "execution_count": 2,
   "id": "7a3162a3-9883-4d48-aaf6-6a8164f4018d",
   "metadata": {},
   "outputs": [],
   "source": [
    "import pandas as pd\n",
    "from io import StringIO"
   ]
  },
  {
   "cell_type": "code",
   "execution_count": 3,
   "id": "ffd28829-ac84-4523-afd6-c370789e7610",
   "metadata": {},
   "outputs": [],
   "source": [
    "import re"
   ]
  },
  {
   "cell_type": "code",
   "execution_count": 4,
   "id": "a6fc67a5-fe73-4a35-869e-a1ec67354966",
   "metadata": {},
   "outputs": [],
   "source": [
    "import spacy\n",
    "\n",
    "nlp = spacy.load(\"en_core_web_sm\")"
   ]
  },
  {
   "cell_type": "markdown",
   "id": "afbb3caf-cd84-43b3-809c-2599c0658b2e",
   "metadata": {},
   "source": [
    "**uploaded saved scraped content from task 1.5 and printed 500 lines of text**"
   ]
  },
  {
   "cell_type": "code",
   "execution_count": 5,
   "id": "dfe17313-b45a-4a97-815d-04d8ba27906e",
   "metadata": {},
   "outputs": [
    {
     "name": "stdout",
     "output_type": "stream",
     "text": [
      "Headers:\n",
      "Contents\n",
      "Key events of the 20th century\n",
      "Historic events in the 20th century\n",
      "World at the beginning of the century\n",
      "Between the wars\n",
      "Global war: World War II (1939–1945)\n",
      "The post-war world\n",
      "The world at the end of the century\n",
      "See also\n",
      "References\n",
      "Sources\n",
      "External links\n",
      "\n",
      "Paragraphs:\n",
      "You deserve an explanation, so please don't skip this 1-minute read. It's Thursday, December 26. Our fundraiser will soon be over, but we're short of our goal. If you've lost count of how many times you've visite\n"
     ]
    }
   ],
   "source": [
    "with open(r'C:\\Users\\Kathe\\Documents\\Project 1 - Visualizations for Data Analysts\\1.-Data-Visualization-in-Python\\scraped_content.txt', 'r', encoding='utf-8') as file:\n",
    "    text = file.read()\n",
    "\n",
    "print(text[:500])"
   ]
  },
  {
   "cell_type": "markdown",
   "id": "c8a44733-d39b-40c2-848d-cd653d37e236",
   "metadata": {},
   "source": [
    "**Started wrangling and cleaning process by alterting the scraped content text file by:**\n",
    "- **Remove non-alphanumeric characters (except spaces)**\n",
    "- **Convert text to all lowercase**\n",
    "- **Remove whitespace from file**"
   ]
  },
  {
   "cell_type": "code",
   "execution_count": 6,
   "id": "e00277e7-1163-4a27-8c30-065503588076",
   "metadata": {},
   "outputs": [
    {
     "name": "stdout",
     "output_type": "stream",
     "text": [
      "headers contents key events of the 20th century historic events in the 20th century world at the beginning of the century between the wars global war world war ii 19391945 the postwar world the world at the end of the century see also references sources external links paragraphs you deserve an explanation so please dont skip this 1minute read its thursday december 26 our fundraiser will soon be over but were short of our goal if youve lost count of how many times youve visited wikipedia this yea\n"
     ]
    }
   ],
   "source": [
    "# Remove non-alphanumeric characters (except spaces)\n",
    "cleaned_text = re.sub(r'[^\\w\\s]', '', text)\n",
    "\n",
    "# Convert to lowercase\n",
    "cleaned_text = cleaned_text.lower()\n",
    "\n",
    "# Remove extra whitespace\n",
    "cleaned_text = re.sub(r'\\s+', ' ', cleaned_text).strip()\n",
    "\n",
    "print(cleaned_text[:500])  # Preview cleaned text"
   ]
  },
  {
   "cell_type": "code",
   "execution_count": 7,
   "id": "c3d77664-9fc5-4bd3-af19-a98fe9e4d965",
   "metadata": {},
   "outputs": [
    {
     "name": "stdout",
     "output_type": "stream",
     "text": [
      "['headers contents key events of the 20th century historic events in the 20th century world at the beginning of the century between the wars global war world war ii 19391945 the postwar world the world at the end of the century see also references sources external links paragraphs you deserve an explanation so please dont skip this 1minute read its thursday december 26 our fundraiser will soon be over but were short of our goal if youve lost count of how many times youve visited wikipedia this year we hope that means its given you at least 275 of knowledge if just 2 of our most loyal readers gave 275 today wed hit our goal in a few hours after nearly 25 years wikipedia is still the internet we were promisedan oasis of free and collaborative knowledge by visiting wikipedia today youre choosing a free and fair internet a space where you can find facts you need without being distracted by ads or the agendas of wealthy owners most readers dont donate so your gift matters if wikipedia provides you with 275 of knowledge please donate 275 right now or consider a monthly gift of 100 or more to help all year long thank you proud host of wikipedia and its sister sites thank you for your support unlock tax benefits by directing your donation via your donoradvised fund daf qualified charitable distributions from a tax efficient eligible ira involve your employer and increase the impact of your donation the 20th century changed the world in unprecedented ways the world wars sparked tension between countries and led to the creation of atomic bombs the cold war led to the space race and the creation of spacebased rockets and the world wide web was created these advancements have played a significant role in citizens lives and shaped the 21st century into what it is today the new beginning of the 20th century marked significant changes the 1900s saw the decade herald a series of inventions including the automobile airplane and radio broadcasting 1914 saw the completion of the panama canal from 1914 to 1918 the first world war and its aftermath caused major changes in the power balance of the world destroying or transforming some of the most powerful empires the first world war or simply wwi termed the great war by contemporaries started in july 1914 and ended in november 1918 the war was precipitated by the assassination in sarajevo of the austrohungarian empires heir to the throne erzherzog franz ferdinand by gavrilo princip a member of the young bosnia liberation movement after a period of diplomatic and military escalation known as the july crisis by the end of july 1914 two coalitions were at war the allies comprised initially of the british empire france and the russian empire and the central powers comprised initially of the german empire and austriahungary 12 in 1917 russia ended hostile actions against the central powers after the fall of the tsar the bolsheviks negotiated the treaty of brestlitovsk with germany although it was a huge cost to russia in the treaty bolshevik russia ceded the baltic states to germany and its province of kars oblast in the south caucasus to the ottoman empire it also recognized the independence of ukraine3 although germany shifted huge forces from the eastern to the western front after signing the treaty it was unable to stop the allied advance especially with the entrance of american troops in 19184 the war itself was also a chance for the combatant nations to show off their military strength and technological ingenuity the germans introduced the machine gun5 uboats6 and deadly gases7 the british first used the tank8 both sides had a chance to test out their new aircraft to see if they could be used in warfare it was widely believed that the war would be short unfortunately since trench warfare was the best form of defense advances on both sides were very slow and came at a terrible cost to lives9 when the war was finally over in 1918 the results would set the stage for the next twenty years first and foremost the germans were forced to sign the treaty of versailles forcing them to make exorbitant payments to repair damages caused during the war many germans felt these reparations were unfair because they did not actually lose the war nor did they feel they caused the war see stabintheback legend10 germany was never occupied by allied troops yet it had to accept a liberal democratic government imposed on it by the victors after the abdication of kaiser wilhelm11 much of the map of europe was redrawn by the victors based upon the theory that future wars could be prevented if all ethnic groups had their own homeland new states like yugoslavia and czechoslovakia were created out of the former austrohungarian empire to accommodate the nationalist aspirations of these groups12 an international body called the league of nations was formed to mediate disputes and prevent future wars although its effectiveness was severely limited by among other things its reluctance and inability to act13 the russian revolution of 1917 ending in the overthrow of the tsarist regime and the execution of his imperial majesty nicholas ii and his family sparked a wave of communist revolutions across europe prompting many to believe that a socialist world revolution could be realized in the near future14 however the european revolutions were defeated vladimir lenin died in 1924 and within a few years joseph stalin displaced leon trotsky as the de facto leader of the soviet union the idea of worldwide revolution was no longer in the forefront as stalin concentrated on socialism in one country15 and embarked on a bold plan of collectivization and industrialization16 the majority of socialists and even many communists became disillusioned with stalins autocratic rule his purges and the assassination of his enemies as well as the news of famines he imposed on his own people17 communism was strengthened as a force in western democracies when the global economy crashed in 1929 in what became known as the great depression many people saw this as the first stage of the end of the capitalist system and were attracted to communism as a solution to the economic crisis especially as the soviet unions economic development in the 1930s was strong unaffected by the capitalist worlds crisis18 after world war i the global economy remained strong through most of the 1920s the war had provided a stimulus for industry and economic activity in general there were many warning signs foretelling the crash of 29 of the global economic system at the end of the decade that were generally not understood by the political leadership of the time19 the responses to the crisis often made the situation worse as millions of people watched their savings become next to worthless and the idea of a steady job with a reasonable income fading away20 many sought answers from alternative ideologies such as communism and fascism21 they believed that the capitalist economic system was collapsing and that new ideas were required to meet the crisis the early responses to the crisis were based on the assumption that the free market would correct itself this however did very little to correct the crisis or to alleviate the suffering of many ordinary people thus the idea that the existing system could be reformed by government intervention in the economy rather than by continuing the laissezfaire approach became prominent as a solution to the crisis democratic governments assumed the responsibility to provide needed services in society and to alleviate poverty thus was born the welfare state22 these two politicoeconomic principles the belief in government intervention and the welfare state as opposed to the belief in the free market and private institutions would define many political battles for the rest of the century fascism first appeared in italy with the rise to power of benito mussolini in 192223 the ideology was supported by a large proportion of the upper classes as a strong challenge to the threat of communism24 when adolf hitler came to power in germany in 1933 a new variant of fascism called nazism took over germany and ended the german experiment with democracy the nazi party in germany was dedicated to the restoration of german honor and prestige the unification of germanspeaking peoples and the annexation of central and eastern europe as vassal states with the slavic population to act as slave labor to serve german economic interests25 there was also a strong appeal to a mythical racial purity the idea that germans were the herrenvolk or the master race and a vicious antisemitism which promoted the idea of jews as subhuman untermensch and worthy only of extermination26 many people in western europe and the united states greeted the rise of hitler with relief or indifference27 they could see nothing wrong with a strong germany ready to take on the communist menace to the east antisemitism during the great depression was widespread as many were content to blame the jews for causing the economic downturn28 hitler began to put his plan in motion annexing austria in the anschluss or reunification of austria to germany in 193829 he then negotiated the annexation of the sudetenland a germanspeaking mountainous area of czechoslovakia in the munich conference30 the british were eager to avoid war and believed hitlers assurance to protect the security of the czech state hitler annexed the rest of the czech state shortly afterwards indicating that he had ulterior motives31 fascism was not the only form of dictatorship to rise in the postwar period almost all of the new democracies in the nations of eastern europe collapsed and were replaced by authoritarian regimes32 spain also became a dictatorship under the leadership of general francisco franco after the spanish civil war33 totalitarian states attempted to achieve total control over their subjects as well as their total loyalty they held the state above the individual and were often responsible for some of the worst acts in history such as the holocaust adolf hitler perpetrated on european jews or the great purge stalin perpetrated in the soviet union in the 1930s this section provides a conversational overview of world war ii in europe see main article for a fuller discussion soon after the events in czechoslovakia britain and france issued assurances of protection to poland which seemed to be next on hitlers list world war ii officially began on 1 september 1939 when hitler unleashed his blitzkrieg or lightning war against poland britain and france much to hitlers surprise immediately declared war upon germany but the help they delivered to poland was negligible34 sixteen days later poland was attacked from the east by soviet union acting in a secret alliance with nazi germany35 after only a few weeks the polish forces were overwhelmed and its government fled to exile in london see polish government in exile in starting world war ii the germans had unleashed a new type of warfare characterized by highly mobile forces and the use of massed aircraft the german strategy concentrated upon the devotion of the wehrmacht or german army to the use of tank groups called panzer divisions and groups of mobile infantry in concert with relentless attacks from the air encirclement was also a major part of the strategy this change smashed any expectations that the second world war would be fought in the trenches like the first36 as hitlers forces conquered poland the soviet union under general secretary joseph stalin was acting out guarantees of territory under a secret part of a nonaggression pact between the ussr and germany known as the molotovribbentrop pact this treaty gave stalin free rein to take the baltic republics of estonia latvia and lithuania as well as eastern poland all of which would remain in soviet possession after the war37 stalin also launched an attack on finland which he hoped to reduce to little more than a soviet puppet state but the red army met staunch finnish resistance in what became known as the winter war and succeeded in gaining only limited territory from the finns38 this action would later cause the finns to ally with germany when its attack on the soviet union came in 194139 after the defeat of poland a period known as the phony war ensued during the winter of 19391940 which saw only limited military land operation on the western front40 all of this changed on 10 may 1940 when the germans launched a massive attack on the low countries belgium the netherlands and luxembourg most probably to surmount the maginot line of defenses on the francogerman border41 this witnessed the incredible fall of eben emael a belgian fort considered impregnable and guarded by 600 belgians to a force of only 88 german paratroopers the worst of this was that king leopold iii of belgium surrendered to the germans on 28 may without warning his allies exposing the entire flank of the allied forces to german panzer groups42 following the conquest of the low countries hitler occupied denmark and norway beginning on 9 april 1940 norway was strategically important because of its sea routes which supplied crucial swedish ore to the nazi war machine norway held on for a few crucial weeks but denmark surrendered after only six hours4344 sweden was the only scandinavian country to successfully maintain its neutrality throughout the war with occasional breaches of neutrality in favor of both germany and the western allies45 with the disaster in the low countries france considered at the time to have had the finest army in the world lasted only four weeks with paris being occupied on 14 june three days later marshal philippe pétain surrendered to the germans46 the debacle in france also led to one of the wars greatest mysteries and hitlers first great blunder dunkirk where a third of a million trapped british and french soldiers were evacuated by not only british war boats but every craft the army could find including fishing boats hitler refused to risk his panzers on an action at dunkirk listening to the advice of air minister hermann göring and allowing the luftwaffe or german air force to handle the job47 the irony of this was that the escaped men would form the core of the army that was to invade the beaches of normandy in 1944 hitler did not occupy all of france but about threequarters including all of the atlantic coast allowing marshal pétain to remain as dictator of an area known as vichy france48 however members of the escaped french army formed around general charles de gaulle to create the free french forces which would continue to battle hitler in the stead of an independent france49 at this moment italy under benito mussolini declared war on the allies on 10 june thinking that the war was almost over but he managed only to occupy a few hundred yards of french territory50 throughout the war the italians would be more of a burden to the nazis than a boon and would later cost them precious time in greece5152 hitler now turned his eyes on great britain which stood alone against him he ordered his generals to draw up plans for an invasion code named operation sea lion and ordered the luftwaffe to launch a massive air war against the british isles which would come to be known as the battle of britain the british at first suffered steady losses but eventually managed to turn the air war against germany taking down 2698 german planes throughout the summer of 1940 to only 915 royal air force raf losses53 the key turning point came when the germans discontinued successful attacks against british airplane factories and radar command and coordination stations and turned to civilian bombing known as terror bombing using the distinctive bomb sound created by the german divebomber the stuka54 the switch came after a small british bombing force had attacked berlin55 hitler was infuriated however his decision to switch the attacks focus allowed the british to rebuild the raf and eventually force the germans to indefinitely postpone sea lion56 the importance of the battle of britain is that it marked the first of hitlers defeats however its overall impact was overshadowed by his later blunders in the east secondly it marked the advent of radar as a major weapon in modern air war with radar squadrons of fighters could be quickly assembled to respond to incoming bombers attempting to bomb civilian targets it also allowed the identification of the type and a guess at the number of incoming enemy aircraft as well as tracking of friendly airplanes57 hitler taken aback by his defeat over the skies of britain now turned his gaze eastward to the soviet union despite having signed the nonaggression pact with stalin hitler despised communism and wished to destroy it in the land of its birth he originally planned to launch the attack in early spring of 1941 to avoid the disastrous russian winter however a proallied coup in yugoslavia and mussolinis almost utter defeat in his invasion of greece from occupied albania prompted hitler to launch a personal campaign of revenge in yugoslavia and to occupy greece at the same time58 the greeks would have a bitter revenge of sorts the attack caused a delay of several crucial weeks of the invasion of the ussr potentially hampering it59 on 22 june 1941 hitler attacked stalin with the largest army the world had ever seen over three million men and their weapons were put into service against the soviet union60 stalin had been warned about the attack both by other countries and by his own intelligence network but he had refused to believe it therefore the soviet army was largely unprepared and suffered massive setbacks in the early part of the war despite stalins orders to counterattack the germans61 throughout 1941 german forces divided into 3 army groups army group a army group b and army group c occupied the territories of the present day ukraine and belarus laid siege to leningrad present day saint petersburg and advanced to within 15 miles of moscow at this critical moment the soviet people stalled the german wehrmacht to a halt at the gates of moscow stalin had planned to evacuate the city and had already moved important government functions but decided to stay and rally the city recently arrived troops from the east under the command of marshal georgy zhukov counterattacked the germans and drove them from moscow62 mussolini had launched an offensive in north africa from italiancontrolled libya into britishcontrolled egypt however the british smashed the italians and were on the verge of taking libya hitler decided to help by sending in a few thousand troops a luftwaffe division and the firstrate general erwin rommel63 rommel managed to use his small force to repeatedly smash massively superior british forces and to recapture the port city of tobruk and advance into egypt however hitler embroiled in his invasion of the soviet union refused to send rommel any more troops causing rommel to retreat and preventing him from seizing the middle east where axisfriendly regimes had taken root in iraq and persia presentday iran6465 after the winter hitler launched a fresh offensive in the spring of 1942 with the aim of capturing the oilrich caucacus and the city of stalingrad however he repeatedly switched his troops to where they were not needed the offensive bogged down and the entire 6th army considered the best of german troops was trapped in stalingrad hitler now refused to let 6th army break out he insisted that the german army would force its way in hermann göring also assured hitler that the luftwaffe could supply the 6th army adequately when it could in reality only supply a minute fraction of the needed ammunition and rations eventually the starved 6th army surrendered dealing a severe blow to the germans in the end the defeat at stalingrad was the turning point for the war in the east66 meanwhile the japanese had attacked the united states at pearl harbor in hawaii on 7 december 1941 this disastrous attack forced the americans into the war parts of the german brass advised against declaring war on the us arguing that since japan was the aggressor the tripartite pact didnt bind germany to do so however hitler hoped that japan would be able to quickly defeat the us and then turn its attention on helping the effort against russia both germany and italy declared war on the united states a few days after the attack67 throughout the rest of 1942 and 1943 the soviets began to gain ground against the germans after some victories like the tank battle of kursk68 by this time rommel had been forced to abandon north africa after a defeat by montgomery at el alamein in what was the first decisive victory of the allies over the germany army leading churchill to declare it the end of the beginning69 on several fronts the wehrmacht had encountered serious casualties that it could not replace hitler also insisted on a hold at all costs policy which forbade relinquishing any ground he followed a fight to the last man policy that was completely ineffective by the beginning of 1944 hitler had lost all initiative in the soviet union and was struggling even to hold back the tide turning against him70 from 1942 to 1944 the united states and britain acted in only a limited manner in the european theater much to the chagrin of stalin they drove out the germans in africa invading morocco and algeria on 8 november 194271 then on 10 july 1943 the allies invaded sicily in preparation for an advance through italy the soft underbelly of the axis as winston churchill called it on 9 september the invasion of italy began72 by the winter of 1943 the southern half of italy was in allied hands the italians most of whom did not really support the war had already turned against mussolini in july he had been stripped of power and taken prisoner though the italians feigned continued support of the axis on 8 september the italians formally surrendered73 but most of italy not in allied hands was controlled by german troops and those loyal to mussolinis mussolini had been freed by german paratroopers new italian social republic which in reality consisted of the shrinking zone of german control the germans offered staunch resistance but by 4 june 1944 rome had fallen74 the battle of the atlantic took place from 1942 to 1944 and was described as longest largest and most complex naval battle in history75 the germans hoped to sever the vital supply lines between britain and america sinking many tons of shipping with uboats german submarines however the development of the destroyer and aircraft with a longer patrol range were effective at countering the uboat threat and by december 1943 the germans had lost the battle76 on 6 june 1944 the western allies finally launched the longawaited assault on fortress europe so wanted by stalin the offensive codenamed operation overlord began the early morning hours of 6 june the day known as dday was marked by foul weather rommel who was now in charge of defending france against possible allied attack thought the allies would not attack during the stormy weather and was on holiday in germany77 besides this the germans were expecting an attack but at the natural harbor of calais and not the beaches of normandy they did not know about the allies artificial harbours and false leads planted by the allies suggested calais as the landing site78 by this time the war was looking ever darker for germany on 20 july 1944 a group of conspiring german officers attempted to assassinate hitler the bomb they used did injure him but the second was not used and a table shielded hitler in a stroke of luck79 the plotters still could have launched a coup but only the head of occupied paris acted arresting ss and gestapo forces in the city the german propaganda minister joseph goebbels rallied the nazis and hunted down the conspirators arresting up to 7000 people in the wake of the plot according to some estimates80 in france the allies took normandy and finally paris on 25 august81 in the east the soviets had advanced almost to the former polishsoviet border at this time hitler introduced the vweapons the v1 flying bomb and later the v2 the first rockets used in modern warfare the v1 was often intercepted by air pilots but the v2 was extremely fast and carried a large payload however this advance came too late in the war to have any real effect82 the germans were also on the verge of introducing a number of terrifying new weapons including advanced jet aircraft which were too fast for ordinary propeller aircraft and submarine improvements which would allow the germans to again fight effectively in the atlantic all this came too late to save hitler although a september invasion of the netherlands failed the allies made steady advances in the winter of 1944 hitler put everything into one last desperate gamble in the west known as the battle of the bulge which despite an initial advance was a failure because the introduction of new allied tanks and low troop numbers among the germans prevented any real action being taken nevertheless it was one of the bloodiest battles of the war and the second costliest battle in the history of the american army83 in early february 1945 the three allied leaders franklin roosevelt winston churchill and joseph stalin met at newly liberated yalta in the crimea in the soviet union in the yalta conference84 here they agreed upon a plan to divide postwar europe most of the east went to stalin who agreed to allow free elections in eastern europe which he never did the west went to britain france and the us postwar germany would be split between the four as would berlin this division of spheres of influence would set up international diplomacy for the cold war that would dominate the second half of the century85 at the beginning of 1945 hitler was on his last strings the soviets launched a devastating attack from poland into germany and eastern europe intending to take berlin the germans collapsed in the west allowing the allies to fan out across germany however the supreme allied commander american general dwight d eisenhower refused to strike for berlin and instead became obsessed with reports of possible guerrilla activity in southern germany which in reality existed mainly in the propaganda of joseph goebbels86 by 25 april the soviets had besieged berlin hitler remained in the city in a bunker under the chancellery garden on 30 april he committed suicide by shooting himself after a ritual wedding with his longtime mistress eva braun87 the germans held out another 7 days under admiral doenitz their new leader but the germans surrendered unconditionally on 7 may 1945 ending the war in europe see ve day88 rivalries that had begun during the war combined with the sense of strength in the victorious powers laid the foundations of the iron curtain and of the cold war the first event that is usually linked to the later pacific conflict was the mukden incident of 18 september 1931 during which the japanese military staged the bombing of the south manchuria railway and pinned the blame on chinese dissidents89 japan then used this as pretext to invade northeastern china the next day and turn the region of manchuria into the japanese puppet state of manchukuo90 after the league of nations commissioned the 1932 lytton report which exposed the mukden incident as a japanese ruse japan was left internationally isolated withdrawing from the league of nations in march 1933 in 1934 manchukuo became a constitutional monarchy and the former chinese emperor pu yi was placed on the throne despite the real power being held by japan91 despite relations between japan and china suffering because the occupation of manchuria the situation did not turn into allout war until 7 july 1937 when a dispute between chinese and japanese soldiers turned into a battle during the marco polo bridge incident92 this in turn led to a further escalation of the hostilities leading to the second sinojapanese war one of the deadliest conflicts in human history93 japan enjoyed some early major victories capturing both shanghai and the chinese capital of nanjing in 1937 and forcing the chinese central government s relocation to chongqing following chinese victories in changsha and guangxi in 1939 the war reached somewhat of a stalemate with japan controlling the large cities but being unable to rule the vast countryside94 on 27 september 1940 japan became cosignatories of the tripartite pact joining a military alliance with germany and italy95 on 7 december 1941 japan launched a surprise attack on the american base at pearl harbor as a mean of preventing the us pacific fleet from interfering with its planned expansion in the area96 the next day following roosevelts infamy speech the united states declared war on japan marking the official entry of both nations in world war 29798 at the same time japan also launched attacks on thailand the british colonies of malaya singapore hong kong and american military bases in guam wake island and the philippines99 the next six months were dominated by japanese victories against the allied forces already warweary and stretched thin after two years of war in europe and north africa japan managed to capture british burma new guinea the dutch east indies the solomon islands bali and timor100 in march 1942 days before the surrender of the philippines general douglas macarthur who came out of retirement to become commander of united states army forces in the far east at the onset of the war was forced to flee and narrowly escape to australia101 on 19 february 1942 japan also launched a devastating aerial attack on the australian city of darwin in what was the first attack by a foreign power on australian soil102 the turning of the tide came in early may during the battle of the coral sea which proved the first strategic victory of the allies against japanese expansion103 this was followed one month later by the battle of midway in which the us navy defeated an attacking japanese fleet inflicting devastating damage on the attacking force the battle of midway is widely considered the most important naval battle of the pacific campaign and has even been described as the most stunning and decisive blow in the history of naval warfare104 the reasons usually given for the resounding victory are japanese overconfidence in their own forces poor planning and the intercepting of japanese battle plans by the united states105 the losses suffered during this battle of midway paired with the campaign of attrition that was taking place in solomon islands left japan unable to replenish its forces and turned the tides of war against it by august 1942 the allied forces were on the offensive earning victories in the new guinea campaign at guadalcanal milne bay and bunagona106 over the next two years the allies slowly captured one island base after another trying to get closer to japan itself where it planned to launch massive strategic air attacks and only if absolutely necessary execute a ground invasion by july 1944 the us recaptured guam and captured tinian which finally put them in attacking range of mainland japan using the new boeing b29 bombers107 despite the advances of the allies massive fighting was still taking place both in southeast asia with the japanese offensive in india and in the pacific with the battle of the philippine sea where japan suffered major losses and definitively lost the ability to rely on aircraft carriers108 in later october a combined attack of american and australian forces took on the imperial japanese navy during the battle of leyte gulf in what was to be the largest naval battle of world war ii and possibly the largest naval battle of all time109 the allied victory achieved its stated goal of further severing oil supplied to the japanese army which was already struggling to fuel the remainder of its naval power110 the battle of leyte gulf is also notable as the first battle in which japanese aircraft carried out organized kamikaze attacks111 by early 1945 the americans set their eyes on the japanese island of iwo jima which was of great strategic importance being situated halfway between tokyo and the mariana islands capturing the island meant not only a better launch station for aerial attacks against mainland japan but also the prevention of its use as an earlywarning station against air raids the japanese were expecting an attack and have been heavily fortifying the entire island for over a year112 despite the american troops outnumbering the japanese to a rate of more than 3 to 1 the usa suffered heavy casualties in the 36 days of fighting with over 6800 marines killed and another 20000 wounded113 leading some historians to question the strategic worth of the action114 with japan struggling to defend the homeland islands counteroffensives in other parts of the japanese empire became more feasible with important battles taking place in burma borneo and china continuing to come nearer the main japanese islands on 1 april 1945 the us marines mounted the largest amphibious assault of the pacific theater on the island of okinawa115 after a long campaign of island hopping the allies were planning to use kadena air base on the large island of okinawa as a base for operation downfall the planned invasion of the japanese home islands which were only 340 miles away116 the battle was one of the bloodiest in the pacific with approximately 160000 casualties on both sides at least 75000 allied and 84166117000 japanese around half of the islands population of 300000 were killed committed suicide or went missing117 the assaults on both iwo jima and okinawa proved incredibly costly in terms of american lives and president truman was horrified at the prospect of operation downfall a planned bootsontheground invasion of mainland japan that was estimated to lead to over a million casualties among american soldiers118 despite a devastating campaign of firebombing in tokyo and dozens of other cities the japanese showed no sign of planning to surrender following the potsdam declaration of 26 july where the allies threatened prompt and utter destruction should japan not surrender119 the decision was made to resort to the first use of atomic bombs on 6 august the 393d bombardment squadron b29 enola gay took off from tinian and dropped the bomb on the city of hiroshima three days later a second bomb was dropped on nagasaki the two bombings killed 129000226000 people most of them civilians120 on 9 august the soviet union also invaded manchukuo in what was to be the last campaign of the war121 on 10 august the sacred decision was made by japanese cabinet to accept the potsdam terms and on 15 august emperor hirohito broadcast to the nation and to the world at large the rescript of surrender ending the second world war122 the formal japanese instrument of surrender was signed on 2 september 1945 on the battleship uss missouri in tokyo bay the surrender was accepted by general douglas macarthur as supreme commander of the allied powers123 the holocaust which roughly means great fire was the deliberate systematic murder of millions of jews and other minorities during world war ii by hitlers nazi regime in europe several differing views exist regarding whether it was intended to occur from the wars beginning or if the plans for it came about later124125 regardless persecution of jews extended well before the war even started such as in the kristallnacht literally crystal night night of broken glass126 the nazis used propaganda to great effect to stir up antisemitic feelings within ordinary germans many people including politicians and historians consider the holocaust to be the worst event in history and have described hitler his followers and his regime as evil after the conquest of poland the third reich which had previously deported jews and other undesirables suddenly had within its borders the largest concentration of jews in the world the solution was to round up jews and place them in nazi concentration camps or in ghettos cordoned off sections of cities where jews were forced to live in deplorable conditions often with tens of thousands starving to death and the bodies decaying in the streets127128 as appalling as this sounds they were the lucky ones after the invasion of the soviet union armed killing squads of ss men known as einsatzgruppen systematically rounded up jews and murdered an estimated one million jews within the country129 as barbaric and inhuman as this seems it was too slow and inefficient by nazi standards in 1942 the top leadership met in wannsee a suburb of berlin and began to plan a more efficient way to slaughter the jews130 the nazis created a system of extermination camps throughout poland and began rounding up jews from the soviet union and from the ghettos131132 not only were jews shot or gassed to death en masse but they were forced to provide slave labor and they were used in horrific medical experiments see human experimentation in nazi germany133 out of the widespread condemnation of the nazis medical experiments the nuremberg code of medical ethics was devised134 the nazis took a sadistic pleasure in the death camps the entrance to the most notorious camp auschwitz stated arbeit macht freiwork sets you free135 in the end six million jews and up to 5 million homosexuals jehovahs witnesses roma and political prisoners were killed by various means mainly in the death camps136137138 an additional several million soviet and other allied prisoners of war died in camps and holding areas139140 there is some controversy over whether ordinary germans knew about the holocaust141 it appears that many germans knew about the concentration camps such things were prominently displayed in magazines and newspapers142 in many places jews had to walk past towns and villages on their way to work as slaves in german industry in any case allied soldiers reported that the smell of the camps carried for miles143 a very small number of people deny the holocaust occurred entirely though these claims have been routinely discredited by mainstream historians144 during the 1930s innovations in physics made it apparent that it could be possible to develop nuclear weapons of incredible power using nuclear reactions145 when world war ii broke out scientists and advisors among the allies feared that nazi germany may have been trying to develop its own atomic weapons and the united states and the united kingdom pooled their efforts in what became known as the manhattan project to beat them to it at the secret los alamos laboratory in new mexico scientist robert oppenheimer led a team of the worlds top scientists to develop the first nuclear weapons the first of which was tested at the trinity site in july 1945146 however germany had surrendered in may 1945 and it had been discovered that the german atomic bomb program had not been very close to success147 the allied team produced two nuclear weapons for use in the war one powered by uranium235 and the other by plutonium as fissionable material named little boy and fat man148 these were dropped on the japanese cities of hiroshima and nagasaki on 6 and 9 august 1945 each this in combination with the soviet invasion of japanesecontrolled territory convinced the japanese government to surrender unconditionally these two weapons remain the only two nuclear weapons ever used against other countries in war149 nuclear weapons brought an entirely new and terrifying possibility to warfare of nuclear annihilation because it was feared that they would bring about the human extinction overnight while at first the united states held a monopoly on the production of nuclear weapons the soviet union with some assistance from espionage managed to detonate its first weapon dubbed joe1 by the west in august 1949150151 the postwar relations between the two which had already been deteriorating began to rapidly disintegrate soon the two were locked in a massive stockpiling of nuclear weapons the united states began a crash program to develop the first hydrogen bomb in 1950 and detonated its first thermonuclear weapon in 1952 this new weapon was alone over 400 times as powerful as the weapons used against japan the soviet union detonated a primitive thermonuclear weapon in 1953 and a fullfledged one in 1955152 the conflict continued to escalate with the major superpowers developing longrange missiles such as the icbm and a nuclear strategy which guaranteed that any use of the nuclear weapons would be suicide for the attacking nation mutually assured destruction the creation of early warning systems put the control of these weapons into the hands of newly created computers and they served as a tense backdrop throughout the cold war153 since the 1940s there were concerns about the rising proliferation of nuclear weapons to new countries which was seen as being destabilizing to international relations spurring regional arms races and generally increasing the likelihood of some form of nuclear war eventually nine nations would overtly develop nuclear weapons and still maintain stockpiles today the united states the soviet union and later russia would inherit these the united kingdom france china india pakistan israel and north korea154 south africa developed six crude weapons in the 1980s which it later dismantled155 and israel almost certainly developed nuclear weapons though it never confirmed nor denied it156 the creation of the nuclear nonproliferation treaty in 1968 was an attempt to curtail such proliferation157 but a number of countries developed nuclear weapons since it was signed and many did not sign it and several other countries including libya and iran were suspected of having clandestine nuclear weapons programs158159 following world war ii the majority of the industrialized world lay in ruins as a result of aerial bombings naval bombardment and protracted land campaigns the united states was a notable exception to this barring pearl harbor and some minor incidents the us had suffered no attacks upon its territory160 the united states and the soviet union which despite the devastation of its most populated areas rebuilt quickly found themselves the worlds two dominant superpowers161 much of western europe was rebuilt after the war with assistance from the marshall plan germany chief instigator of the war was placed under joint military occupation by the united states great britain france and the soviet union berlin although in sovietcontrolled territory was also divided among the four powers162 occupation of berlin would continue until 1990 japan was also placed under us occupation that would last seven years until 1952163 oddly these two axis powers despite military occupation soon rose to become the second japan and third west germany most powerful economies in the world164 following the end of the war the allies famously prosecuted numerous german officials for war crimes and other offenses in the nuremberg trials although adolf hitler had committed suicide many of his cronies including hermann göring were convicted less wellknown trials of other axis officials also occurred including the tokyo war crime trial165 the failure of the league of nations to prevent world war ii essentially discredited the organization and it was dissolved166 a new attempt at world peace was begun with the founding of the united nations on 24 october 1945 in san francisco167 today nearly all countries are members but despite its many successes the organizations success at achieving its goal of world peace is disputed the organization was never given enough power to overcome the conflicting interests and priorities of its member nations almost all the major nations involved in world war ii began shedding their overseas colonies soon after the conflict the tactics employed by the revolutionaries ranged from nonviolent forms of protest to armed rebellions depending on the nation involved168169 immediately after the war european powers began a decadeslong process of withdrawing from their possessions in africa and asia in india mahatma gandhi became a global icon for his nonviolent struggle to achieve indian independence whereas mohamed ali jinnah advocated for the independence of a separate state for muslims this was achieved in 1947 with the end of british rule in india and the partition of the territory into modernday india and pakistan which would later also further divide leading to the creation of the peoples republic of bangladesh in 1971170171 elsewhere in asia the united states granted independence to the philippines its major pacific possession in 1946172 in french indochina armed insurrections forced the french out in the early 1950s leading to the formation of laos cambodia and vietnam173 in africa nationalists such as jomo kenyatta of kenya and kwame nkrumah of ghana led their respective nations to independence from foreign rule174 mere decades before the british empire controlled almost half of the continent but by 1968 the only british possession in africa was seychelles which would also become independent in 1976 between 1956 and 1962 almost 20 african countries achieved their independence from france175 through the efforts of amílcar cabral and others the portuguese colonies of guineabissau cape verde angola mozambique and são tomé and príncipe followed suit and achieved independence during the mid1970s in what was to be the last important wave of african decolonization176 in 1946 there were 35 member states in the united nations but as the newly independent nations joined the organization by 1970 membership increased to 127177 the emergence of newly independent countries in africa and asia that used the borders of the imperial partitions later led to further conflict178 in many cases this meant that historically antagonistic ethnic or religious groups now needed to share the same country or that several nations held territorial claims over regions which were more or less arbitrarily divided by european powers179180 some conflicts which aroused from these tensions especially the nigerian civil war the second congo war the second sudanese civil war and the bangladesh liberation war have been among the bloodiest wars of the 20th century181 during the yalta conference where the western capitalist powers and the communist soviet union agreed on separate spheres of influence in europe they set up the stage for a geopolitical rivalry that would dominate international relations for the next five decades182 in march 1946 winston churchill gave a now famous speech while visiting westminster college in the us which is usually credited as the first use of the term iron curtain to refer to the separation of soviet and western areas of influence in europe183 from stettin in the baltic to trieste in the adriatic an iron curtain has descended across the continent behind that line lie all the capitals of the ancient states of central and eastern europe warsaw berlin prague vienna budapest belgrade bucharest and sofia all these famous cities and the populations around them lie in what i must call the soviet sphere and all are subject in one form or another not only to soviet influence but to a very high and in some cases increasing measure of control from moscow indeed the soviet union had already annexed several countries as soviet socialist republics during the war eastern poland incorporated into the byelorussian ssr and the ukrainian ssr184 latvia which became the latvian ssr estonia which became the estonian ssr lithuania which became the lithuanian ssr185 part of eastern finland which became the karelofinnish ssr186 and eastern romania part of which became the moldavian ssr187 were now wholly part of soviet union furthermore between 1945 and 1949 yugoslavia albania bulgaria poland romania czechoslovakia hungary and east germany saw communist regimes coming to power and their transformation into peoples republics188 while they remained independent countries and their relation with the soviet authorities would fluctuate over the next half century they were widely seen as soviet satellite states outside of europe countries that would see the rise of communism and would ally themselves to the communist bloc include mongolia china north korea cuba and vietnam189 the spread of the communist ideology in general and the soviet influence in particular made western leaders nervous and it even lead to churchill considering a preemptive attack on the ussr even before world war ii was formally ended190 the two rival blocks also coalesced into formal mutual defense organizations with the formation of the north atlantic treaty organization nato in 1949191 and the warsaw pact in 1955192 each determine to expand its own influence among unaligned countries and limit the influence of their rivals two wars and a nearwar in the 1950s became the focus for capitalist versus communist struggle the first war was the korean war fought between peoples republic of chinabacked north korea and mainly united statesbacked south korea the korean peninsula was a japanese colony between 1910 and 1945 when soviet and american troops invaded and divided it along the 38th parallel193 a communist government controlled the territory north of the border and a capitalist one controlled the south with both authorities considering the other one illegitimate and claiming sovereignty over the entire peninsula194 north koreas invasion of south korea on 25 june 1950 led to united nations intervention195 general douglas macarthur led troops from the united states canada australia great britain and other countries in repulsing the northern invasion however the war reached a stalemate after chinese intervention pushed un forces back and an armistice ended hostilities in july 1953 leaving the two koreas divided and tense for the rest of the century196 the second war the vietnam war was perhaps the third most visible war of the 20th century after world war i and world war ii after the french withdrawal from its former colony on 21 july 1954 vietnam became partitioned into two halves much like korea along the 17th parallel fighting between north and south eventually escalated into a regional war the united states provided aid to south vietnam197 and contributed to propaganda efforts against the north198 but was not directly involved until the gulf of tonkin resolution passed in reaction to a supposed north vietnamese attack upon american destroyers brought the us into the war as a belligerent199 the war was initially viewed as a fight to contain communism see containment truman doctrine and domino theory but as more americans were drafted and news of events such as the tet offensive and my lai massacre leaked out american sentiment turned against the war200201 us president richard nixon was elected partially on a promise to end the war this nixon doctrine involved a gradual pullout of american forces south vietnamese units were supposed to replace them backed up by american air power the plan went awry with nixon deliberately sabotaging peace talks for political gain202 and the war spilled into neighboring cambodia while south vietnamese forces were pushed further back203 eventually the us and north vietnam signed the paris peace accords ending us involvement in the war204 with the threat of us retaliation gone the north proceeded to violate the ceasefire and invaded the south with full military force saigon was captured on 30 april 1975 and vietnam was unified under communist rule a year later effectively bringing an end to one of the most unpopular wars of all time205206 the cuban missile crisis illustrates just how close to the brink of nuclear war the world came during the cold war cuba under fidel castros socialist government had formed close ties with the soviet union207 this was obviously disquieting to the united states given cubas proximity when lockheed u2 spy plane flights over the island revealed that soviet missile launchers were being installed us president john f kennedy instituted a naval blockade and publicly confronted the soviet union after a tense week the soviet union backed down and ordered the launchers removed not wanting to risk igniting a new world war208209 with cold war tensions running high the soviet union and united states took their rivalry to the stars in 1957 with the soviet launch of sputnik210 a space race between the two powers followed211 the ussr reached several important milestones such as the first craft on the moon luna 2212 and the first human in space yuri gagarin213 the us pulled ahead eventually with its mercury gemini and apollo programs which culminated in apollo 11 astronauts landing on the moon on 20 july 1969214 five more landings with astronauts followed apollo 13 was forced to abort its mission215 nevertheless despite its successes the us space program could not match many major achievements of the soviet space program such as roverbased space exploration and image and video transfer from the surface of another planet until the early 21st century216217 in addition both countries launched numerous probes into space such as the venera 7 and voyager 2218 in later decades space became a somewhat friendlier place regular space flights with astronauts were made possible with the american space shuttle which was the first reusable spacecraft to be successfully used219 mir and skylab enabled prolonged human habitation in space220221 in the 1990s work on the international space station began and by the end of the century while still incomplete it was in continual use by astronauts from the united states europe russia japan and canada222 by the 1980s the soviet union was weakening the sinosoviet split had removed the ussrs most powerful ally the peoples republic of china223 its arms race with the us was draining the country of funds and further weakened by internal pressures ethnic and political mikhail gorbachev its last leader attempted to reform the country with glasnost and perestroika224 but the formation of solidarity225 the fall of the berlin wall226 and the breakingoff of several soviet republics such as lithuania227 started a slippery slope of events that culminated in a coup to overthrow gorbachev organized by communist party hardliners boris yeltsin president of russia organized mass opposition and the coup failed228 on 26 december 1991 the soviet union was officially disbanded into its constituent republics thus putting a final line under the already exhausted cold war229 the creation of the transistor revolutionized the development of the computer the first computers roomsized electromechanical devices built to break cryptographical codes during world war ii230 quickly became at least 20 times smaller using transistors231 computers became reprogrammable rather than fixedpurpose devices the invention of programming languages meant computer operators could concentrate on problem solving at a highlevel without having to think in terms of the individual instructions to the computer itself232 the creation of operating systems also vastly improved programming productivity building on this computer pioneers could now realize what they had envisioned the graphical user interface piloted by a computer mouse made it simple to harness the power of the computer and made it more accessible to new users233 storage for computer programs progressed from punched cards and paper tape to magnetic tape floppy disks and hard disks core memory and bubble memory fell to random access memory234 the invention of the word processor spreadsheet and database greatly improved office productivity over the old paper typewriter and filing cabinet methods235236 the economic advantage given to businesses led to economic efficiencies in computers themselves costeffective cpus led to thousands of industrial and homebrew computer designs many of which became successful a homecomputer boom was led by the apple ii the zx80 and the commodore pet237238 ibm seeking to embrace the microcomputer revolution devised its ibm personal computer pc crucially ibm developed the pc from thirdparty components that were available on the open market239 the only impediment to another company duplicating the systems architecture was the proprietary bios software other companies starting with compaq reverse engineered the bios and released pc compatible computers that soon became the dominant architecture240241 microsoft which produced an operating system for the pc rode this wave of popularity to become the worlds leading software company242 the 1980s heralded the information age the rise of computer applications and data processing made ethereal information as valuable as physical commodities this brought about new concerns surrounding intellectual property issues the us government made algorithms patentable forming the basis of software patents243 the controversy over these and proprietary software led richard stallman to create the free software foundation and begin the gnu project paving the way for a free software movement244 computers also became a usable platform for entertainment computer games were first developed by software programmers exercising their creativity on large systems at universities but these efforts became commercially successful in arcade games such as pong and space invaders245 once the home computer market was established young programmers in their bedrooms became the core of a youthful video game industry246 in order to take advantage of advancing technology games consoles were created like arcade systems these machines had custom hardware designed to do gameoriented operations such as sprites and parallax scrolling in preference to general purpose computing tasks247 computer networks appeared in two main styles the local area network linking computers in an office or school to each other and the wide area network linking the local area networks together initially computers depended on the telephone networks to link to each other spawning the bulletin board subculture248 however a darpa project to create bombproof computer networks led to the creation of the internet a network of networks the core of this network was the robust tcpip network protocol249 thanks to efforts from al gore the internet grew beyond its military role when universities and commercial businesses were permitted to connect their networks to it250251 the main impetus for this was electronic mail a far faster and convenient form of communication than a conventional letter and memo distribution and the file transfer protocol ftp however the internet remained largely unknown to the general public who were used to bulletin boards and services like compuserve and america online this changed when tim bernerslee devised a simpler form of vannevar bushs hypertext which he dubbed the world wide web252 the web suddenly changed the internet into a printing press beyond the geographic boundaries of physical countries it was termed cyberspace anyone with a computer and an internet connection could write pages in the simple html format and publish their thoughts to the world253 the webs immense success also fueled the commercial use of the internet convenient home shopping had been an element of visions of the future since the development of the telephone but now the race was on to provide convenient interactive consumerism254 companies trading through websites became known as dot coms due to the com suffix of commercial internet addresses255 the change of the century also lead to the fear and paranoia of y2k where it was hypothesized that the worlds computers would glitch and cause havoc on banks prisons transit systems and more by the end of the century more technological advances and scientific discoveries had been made than in all of preceding history communications and information technology transportation technology and medical advances have radically altered daily lives europe appeared to be at a sustainable peace for the first time in recorded history the people of the indian subcontinent a sixth of the world population at the end of the century had attained indigenous independence for the first time in centuries china an ancient nation comprising a fifth of the worlds population was finally open to the world in a new and powerful synthesis of west and east creating a new state after the nearcomplete destruction of the old cultural order with the end of colonialism and the cold war nearly a billion people in africa were left with truly independent new nationstates some cut from whole cloth standing up after centuries of foreign domination256 the world was undergoing its second major period of globalization the first which started in the 19th century having been terminated by world war i257 since the us was in a position of almost unchallenged domination a major part of the process was americanization258 this led to antiwestern and antiamerican feelings in parts of the world especially the middle east259 the influence of china and india was also rising as the worlds largest populations long marginalized by the west and by their rulers were rapidly integrating with the world economy260 however several problems face the world the gap between rich and poor nations continued to widen some said that this problem could not be fixed that there was a set amount of wealth and it could only be shared by so many others said that the powerful nations with large economies were not doing enough to help improve the rapidly evolving economies of the third world however developing countries faced many challenges including the scale of the task to be surmounted rapidly growing populations and the need to protect the environment and the cost that goes along with it terrorism rose in the late century the oklahoma city bombing killed 168 dictatorship and the spread of nuclear weapons were other issues requiring attention the world was still blighted by smallscale wars and other violent conflicts fueled by competition over resources and ethnic conflicts despots such as kim jongil of north korea continued to lead their nations toward the development of nuclear weapons261 disease threatened to destabilize many regions of the world new viruses such as sars and west nile continued to spread262263 in poor nations malaria and other diseases affected the majority of the population millions were infected with hiv the virus which causes aids the virus was becoming an epidemic in southern africa264 perhaps most importantly it was speculated that in the long term environmental problems threatened the planets livability the most serious problem was global warming which was predicted to frequently flood coastal areas due to humancaused emission of greenhouse gases particularly carbon dioxide produced by the burning of fossil fuels like the threat of a nuclear world war the shift of climate change has since added to the fear of the possibility of human extinction although not overnight but over several decades265 this prompted many nations to negotiate and sign the kyoto treaty which set mandatory limits on carbon dioxide emissions266 the celebration of the 20th centurys ending expressed the popular opinion that new years eve 1999 and new years day 2000 marked the turn of the millennium while strictly speaking the 20th century ended on new years eve 2000 and the 21st century began on new years day 2001']\n",
      "['headers', 'contents', 'key', 'events', 'of', 'the', '20th', 'century', 'historic', 'events']\n"
     ]
    }
   ],
   "source": [
    "# Split into sentences\n",
    "sentences = cleaned_text.split('. ')\n",
    "print(sentences[:5])  # Preview the first 5 sentences\n",
    "\n",
    "# Split into words\n",
    "words = cleaned_text.split()\n",
    "print(words[:10])  # Preview the first 10 words"
   ]
  },
  {
   "cell_type": "code",
   "execution_count": 8,
   "id": "d6b22aa7-3c57-4de4-b9ec-7150c9bcbddd",
   "metadata": {},
   "outputs": [
    {
     "name": "stdout",
     "output_type": "stream",
     "text": [
      "Headers: Contents Key events of the 20th century Historic events in the 20th century World at the beginning of the century Between the wars Global war: World War II (1939–1945) The post-war world The world at the end of the century See also References Sources External links Paragraphs: You deserve an explanation, so please don't skip this 1-minute read. It's Thursday, December 26. Our fundraiser will soon be over, but we're short of our goal. If you've lost count of how many times you've visited\n"
     ]
    }
   ],
   "source": [
    "# Remove all neccessary spaces \n",
    "cleaned_text = text.strip()\n",
    "\n",
    "# Replace multiple spaces between words with a single space\n",
    "cleaned_text = ' '.join(cleaned_text.split())\n",
    "# Preview the cleaned text file \n",
    "print(cleaned_text[:500]) "
   ]
  },
  {
   "cell_type": "code",
   "execution_count": 9,
   "id": "e9c842d6-e39c-4819-8425-6dbfea9b6ae8",
   "metadata": {},
   "outputs": [
    {
     "name": "stdout",
     "output_type": "stream",
     "text": [
      "headers: contents key events of the 20th century historic events in the 20th century world at the beginning of the century between the wars global war: world war ii (1939–1945) the post-war world the world at the end of the century see also references sources external links paragraphs: you deserve an explanation, so please don't skip this 1-minute read. it's thursday, december 26. our fundraiser will soon be over, but we're short of our goal. if you've lost count of how many times you've visited\n"
     ]
    }
   ],
   "source": [
    "#Converted upercase letters and numbers to lowercase\n",
    "cleaned_text = cleaned_text.lower()\n",
    "\n",
    "print(cleaned_text[:500])  # Preview the cleaned text"
   ]
  },
  {
   "cell_type": "code",
   "execution_count": 10,
   "id": "fc1acf77-a253-43f4-8d42-f06928bfa19e",
   "metadata": {},
   "outputs": [
    {
     "name": "stdout",
     "output_type": "stream",
     "text": [
      "headers contents key events of the th century historic events in the th century world at the beginning of the century between the wars global war world war ii  the postwar world the world at the end of the century see also references sources external links paragraphs you deserve an explanation so please dont skip this minute read its thursday december  our fundraiser will soon be over but were short of our goal if youve lost count of how many times youve visited wikipedia this year we hope that \n"
     ]
    }
   ],
   "source": [
    "# Remove all non-alphanumeric characters (except spaces)\n",
    "cleaned_text = re.sub(r'[^a-zA-Z\\s]', '', cleaned_text)\n",
    "\n",
    "print(cleaned_text[:500])  # Preview the cleaned text"
   ]
  },
  {
   "cell_type": "markdown",
   "id": "d5d1c42f-0913-4e16-88e8-172c3a60c469",
   "metadata": {},
   "source": [
    "**Downloaded Stopwords**"
   ]
  },
  {
   "cell_type": "code",
   "execution_count": 37,
   "id": "4b695ba4-2a1c-43ef-939f-ae19f94ffb99",
   "metadata": {},
   "outputs": [
    {
     "name": "stderr",
     "output_type": "stream",
     "text": [
      "[nltk_data] Downloading package stopwords to\n",
      "[nltk_data]     C:\\Users\\Kathe/nltk_data...\n",
      "[nltk_data]   Package stopwords is already up-to-date!\n"
     ]
    }
   ],
   "source": [
    "from nltk.corpus import stopwords\n",
    "\n",
    "import nltk\n",
    "nltk.download('stopwords')\n",
    "\n",
    "stop_words = set(stopwords.words('english'))"
   ]
  },
  {
   "cell_type": "markdown",
   "id": "63ca015c-da46-4bd0-b4fe-83a9a5a9b80c",
   "metadata": {},
   "source": [
    "**Removed Stopwords from the wrangled df**"
   ]
  },
  {
   "cell_type": "code",
   "execution_count": 40,
   "id": "568e2bac-d709-4ec8-9d9d-96c24aeaa634",
   "metadata": {},
   "outputs": [
    {
     "name": "stdout",
     "output_type": "stream",
     "text": [
      "headers contents key events th century historic events th century world beginning century wars global war world war ii postwar world world end century see also references sources external links paragraphs deserve explanation please dont skip minute read thursday december fundraiser soon short goal youve lost count many times youve visited wikipedia year hope means given least knowledge loyal readers gave today wed hit goal hours nearly years wikipedia still internet promisedan oasis free collabo\n"
     ]
    }
   ],
   "source": [
    "cleaned_text = ' '.join([word for word in cleaned_text.split() if word not in stop_words])\n",
    "\n",
    "print(cleaned_text[:500])  # Preview the cleaned text"
   ]
  },
  {
   "cell_type": "markdown",
   "id": "c25c42fe-033a-4f81-8d3f-8e6b3e9e1a1a",
   "metadata": {},
   "source": [
    "**Tokenized the words in the cleanded DF**"
   ]
  },
  {
   "cell_type": "code",
   "execution_count": 12,
   "id": "e78ab320-f7d4-497e-97ff-a20cd32286e9",
   "metadata": {},
   "outputs": [
    {
     "name": "stdout",
     "output_type": "stream",
     "text": [
      "['headers', 'contents', 'key', 'events', 'th', 'century', 'historic', 'events', 'th', 'century']\n"
     ]
    }
   ],
   "source": [
    "from nltk.tokenize import word_tokenize\n",
    "\n",
    "# Tokenize the cleaned text into words\n",
    "tokens = word_tokenize(cleaned_text)\n",
    "\n",
    "print(tokens[:10])  # Preview the first 10 tokens"
   ]
  },
  {
   "cell_type": "markdown",
   "id": "03d72c4c-fac6-42ad-8e20-e2b8192c01d9",
   "metadata": {},
   "source": [
    "**Downloaded Token DF to computer**"
   ]
  },
  {
   "cell_type": "code",
   "execution_count": 43,
   "id": "3c960f0a-2264-41b4-aace-9c69e138474b",
   "metadata": {},
   "outputs": [],
   "source": [
    "# Define the directory and file path\n",
    "directory_path = r'C:\\Users\\Kathe\\Documents\\Project 1 - Visualizations for Data Analysts\\1.-Data-Visualization-in-Python'\n",
    "output_tokens_file_path = os.path.join(directory_path, 'tokens_text.txt')"
   ]
  },
  {
   "cell_type": "code",
   "execution_count": 45,
   "id": "b982f20f-d6eb-46f5-a66c-1209aceed4fd",
   "metadata": {},
   "outputs": [],
   "source": [
    "tokens_text = ' '.join(tokens)"
   ]
  },
  {
   "cell_type": "code",
   "execution_count": 47,
   "id": "c7adc5b3-245f-4569-8c2a-0ffabd83ac8f",
   "metadata": {},
   "outputs": [],
   "source": [
    "with open(output_tokens_file_path, 'w', encoding='utf-8') as file:\n",
    "    file.write(tokens_text)"
   ]
  },
  {
   "cell_type": "code",
   "execution_count": 49,
   "id": "e8d5cf8e-45e1-49b1-a6da-fbe3295e98e6",
   "metadata": {},
   "outputs": [
    {
     "name": "stdout",
     "output_type": "stream",
     "text": [
      "Tokens have been saved to: C:\\Users\\Kathe\\Documents\\Project 1 - Visualizations for Data Analysts\\1.-Data-Visualization-in-Python\\tokens_text.txt\n"
     ]
    }
   ],
   "source": [
    "print(f\"Tokens have been saved to: {output_tokens_file_path}\")"
   ]
  }
 ],
 "metadata": {
  "kernelspec": {
   "display_name": "Python (20th_century)",
   "language": "python",
   "name": "20th_century"
  },
  "language_info": {
   "codemirror_mode": {
    "name": "ipython",
    "version": 3
   },
   "file_extension": ".py",
   "mimetype": "text/x-python",
   "name": "python",
   "nbconvert_exporter": "python",
   "pygments_lexer": "ipython3",
   "version": "3.12.8"
  }
 },
 "nbformat": 4,
 "nbformat_minor": 5
}
