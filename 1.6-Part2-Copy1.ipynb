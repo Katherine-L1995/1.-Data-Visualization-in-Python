{
 "cells": [
  {
   "cell_type": "code",
   "execution_count": 16,
   "id": "b88f2e35-d203-4c84-9147-6bc577976533",
   "metadata": {},
   "outputs": [],
   "source": [
    "import pandas as pd\n",
    "import spacy"
   ]
  },
  {
   "cell_type": "markdown",
   "id": "43129558-b0df-4f26-92c6-291755111b03",
   "metadata": {},
   "source": [
    "**Uploaded coutrnies df to Pt2 to start the NER relationship process**"
   ]
  },
  {
   "cell_type": "code",
   "execution_count": 18,
   "id": "fc029154-3a81-450d-b3b4-0cc18ac8ab70",
   "metadata": {},
   "outputs": [],
   "source": [
    "countries_df = pd.read_csv(\"C:\\\\Users\\\\Kathe\\\\Documents\\\\Project 1 - Visualizations for Data Analysts\\\\1.-Data-Visualization-in-Python\\\\countries_list_20th_century_1.5.csv\")"
   ]
  },
  {
   "cell_type": "code",
   "execution_count": 20,
   "id": "5ffe4d6a-8bc3-45d5-b1da-73c96cfd2e82",
   "metadata": {},
   "outputs": [
    {
     "name": "stdout",
     "output_type": "stream",
     "text": [
      "     Unnamed: 0                          country_name\n",
      "0             1                          Afghanistan \n",
      "1             2                              Albania \n",
      "2             3                              Algeria \n",
      "3             4                              Andorra \n",
      "4             5                               Angola \n",
      "..          ...                                   ...\n",
      "204         205     Sahrawi Arab Democratic Republic \n",
      "205         206                           Somaliland \n",
      "206         207                        South Ossetia \n",
      "207         208                               Taiwan \n",
      "208         209                          Transnistria\n",
      "\n",
      "[209 rows x 2 columns]\n"
     ]
    }
   ],
   "source": [
    "print(countries_df)"
   ]
  },
  {
   "cell_type": "markdown",
   "id": "10532da7-fe92-436d-987d-b133f6ca36a6",
   "metadata": {},
   "source": [
    "**Start Cleaning proccess to eliminate unwanted columns**"
   ]
  },
  {
   "cell_type": "code",
   "execution_count": 23,
   "id": "c2e74b06-bc98-436b-98eb-6511d9705ab0",
   "metadata": {},
   "outputs": [],
   "source": [
    "countries_list = countries_df['country_name'].tolist()"
   ]
  },
  {
   "cell_type": "code",
   "execution_count": 52,
   "id": "59152fc4-b24c-4a55-b14f-d77868bfc8c2",
   "metadata": {},
   "outputs": [],
   "source": [
    "def filter_entity(ent_list, character_df):\n",
    "    return [ent for ent in ent_list if ent in countries_list]"
   ]
  },
  {
   "cell_type": "markdown",
   "id": "1a784bac-5c46-4d49-afb7-ad185fdb1f38",
   "metadata": {},
   "source": [
    "**Normalize the country names (strip extra spaces, lowercase) for matching**"
   ]
  },
  {
   "cell_type": "code",
   "execution_count": 54,
   "id": "db2588b6-20a8-4a15-80d7-ea69f45efd6f",
   "metadata": {},
   "outputs": [],
   "source": [
    "countries_list = [country.strip().lower() for country in countries_list]"
   ]
  },
  {
   "cell_type": "markdown",
   "id": "7b8cb51f-b6eb-4364-93f3-29c0d6f4b5c9",
   "metadata": {},
   "source": [
    "**Uploaded tokens_text saved in \"1.6 wrangled_txt-PT1\"**"
   ]
  },
  {
   "cell_type": "code",
   "execution_count": 56,
   "id": "7fc67d0c-aeac-47a5-bb9f-5dabbc0e440c",
   "metadata": {},
   "outputs": [],
   "source": [
    "with open(r\"C:\\Users\\Kathe\\Documents\\Project 1 - Visualizations for Data Analysts\\1.-Data-Visualization-in-Python\\1.6 Task Files\\tokens_text.txt\", \"r\") as file:\n",
    "    tokenized_text = file.read()"
   ]
  },
  {
   "cell_type": "code",
   "execution_count": 62,
   "id": "c0dd3c74-ab86-40db-a688-1b722790915e",
   "metadata": {},
   "outputs": [
    {
     "name": "stdout",
     "output_type": "stream",
     "text": [
      "<class 'str'>\n"
     ]
    }
   ],
   "source": [
    "print(type(tokenized_text))"
   ]
  },
  {
   "cell_type": "code",
   "execution_count": 60,
   "id": "cf2463f8-9836-46e1-a589-dfdf09a9128b",
   "metadata": {},
   "outputs": [],
   "source": [
    "nlp = spacy.load(\"en_core_web_sm\")"
   ]
  },
  {
   "cell_type": "markdown",
   "id": "e6415d62-e653-4b3d-85ba-0d78b41ed206",
   "metadata": {},
   "source": [
    "**Use NLP from spacy to tokenize the text and label the text in the tokens_text file**"
   ]
  },
  {
   "cell_type": "code",
   "execution_count": 112,
   "id": "0390ba1a-0f04-4116-a232-e87f3ddb5044",
   "metadata": {},
   "outputs": [],
   "source": [
    "doc = nlp(tokenized_text)"
   ]
  },
  {
   "cell_type": "code",
   "execution_count": 113,
   "id": "7ee9756f-65dc-4e6d-a2a7-4d9ca72e426d",
   "metadata": {},
   "outputs": [],
   "source": [
    "df_sentences = []"
   ]
  },
  {
   "cell_type": "code",
   "execution_count": 114,
   "id": "24eb7bf3-899e-43ed-9815-1742292ee7d5",
   "metadata": {},
   "outputs": [],
   "source": [
    "# Loop through sentences, get entity list for each sentence\n",
    "for sent in doc.sents:\n",
    "       entity_list = [ent.text for ent in sent.ents]\n",
    "       df_sentences.append({\"sentence\": sent, \"entities\": entity_list})\n",
    "\n",
    "df_sentences = pd.DataFrame(df_sentences)"
   ]
  },
  {
   "cell_type": "code",
   "execution_count": 115,
   "id": "4ac5906c-6c69-4047-b7f1-17d46293e2aa",
   "metadata": {},
   "outputs": [
    {
     "data": {
      "text/html": [
       "<div>\n",
       "<style scoped>\n",
       "    .dataframe tbody tr th:only-of-type {\n",
       "        vertical-align: middle;\n",
       "    }\n",
       "\n",
       "    .dataframe tbody tr th {\n",
       "        vertical-align: top;\n",
       "    }\n",
       "\n",
       "    .dataframe thead th {\n",
       "        text-align: right;\n",
       "    }\n",
       "</style>\n",
       "<table border=\"1\" class=\"dataframe\">\n",
       "  <thead>\n",
       "    <tr style=\"text-align: right;\">\n",
       "      <th></th>\n",
       "      <th>sentence</th>\n",
       "      <th>entities</th>\n",
       "    </tr>\n",
       "  </thead>\n",
       "  <tbody>\n",
       "    <tr>\n",
       "      <th>0</th>\n",
       "      <td>(headers, contents, key, events, th, century, ...</td>\n",
       "      <td>[world war ii, thursday, december, year, today...</td>\n",
       "    </tr>\n",
       "    <tr>\n",
       "      <th>1</th>\n",
       "      <td>(caused, war, see, stabintheback, legend, germ...</td>\n",
       "      <td>[germany, europe, yugoslavia, austrohungarian ...</td>\n",
       "    </tr>\n",
       "    <tr>\n",
       "      <th>2</th>\n",
       "      <td>(acting, guarantees, territory, secret, part, ...</td>\n",
       "      <td>[germany, republics, estonia, latvia, lithuania]</td>\n",
       "    </tr>\n",
       "    <tr>\n",
       "      <th>3</th>\n",
       "      <td>(well, eastern, poland, would, remain, soviet,...</td>\n",
       "      <td>[poland, soviet, finland, soviet]</td>\n",
       "    </tr>\n",
       "    <tr>\n",
       "      <th>4</th>\n",
       "      <td>(staunch, finnish, resistance, became, known, ...</td>\n",
       "      <td>[finnish, winter, germany, soviet union, defea...</td>\n",
       "    </tr>\n",
       "  </tbody>\n",
       "</table>\n",
       "</div>"
      ],
      "text/plain": [
       "                                            sentence  \\\n",
       "0  (headers, contents, key, events, th, century, ...   \n",
       "1  (caused, war, see, stabintheback, legend, germ...   \n",
       "2  (acting, guarantees, territory, secret, part, ...   \n",
       "3  (well, eastern, poland, would, remain, soviet,...   \n",
       "4  (staunch, finnish, resistance, became, known, ...   \n",
       "\n",
       "                                            entities  \n",
       "0  [world war ii, thursday, december, year, today...  \n",
       "1  [germany, europe, yugoslavia, austrohungarian ...  \n",
       "2   [germany, republics, estonia, latvia, lithuania]  \n",
       "3                  [poland, soviet, finland, soviet]  \n",
       "4  [finnish, winter, germany, soviet union, defea...  "
      ]
     },
     "execution_count": 115,
     "metadata": {},
     "output_type": "execute_result"
    }
   ],
   "source": [
    "df_sentences.head()"
   ]
  },
  {
   "cell_type": "code",
   "execution_count": 116,
   "id": "bf09d882-cc12-43ed-94c9-d8868a7624d9",
   "metadata": {},
   "outputs": [],
   "source": [
    "df_sentences['countries_list'] = df_sentences['entities'].apply(lambda x: filter_entity(x, None))"
   ]
  },
  {
   "cell_type": "code",
   "execution_count": 117,
   "id": "545266a7-97e6-4804-a5ca-4259098e2306",
   "metadata": {},
   "outputs": [
    {
     "data": {
      "text/html": [
       "<div>\n",
       "<style scoped>\n",
       "    .dataframe tbody tr th:only-of-type {\n",
       "        vertical-align: middle;\n",
       "    }\n",
       "\n",
       "    .dataframe tbody tr th {\n",
       "        vertical-align: top;\n",
       "    }\n",
       "\n",
       "    .dataframe thead th {\n",
       "        text-align: right;\n",
       "    }\n",
       "</style>\n",
       "<table border=\"1\" class=\"dataframe\">\n",
       "  <thead>\n",
       "    <tr style=\"text-align: right;\">\n",
       "      <th></th>\n",
       "      <th>sentence</th>\n",
       "      <th>entities</th>\n",
       "      <th>countries_list</th>\n",
       "    </tr>\n",
       "  </thead>\n",
       "  <tbody>\n",
       "    <tr>\n",
       "      <th>1</th>\n",
       "      <td>(caused, war, see, stabintheback, legend, germ...</td>\n",
       "      <td>[germany, europe, yugoslavia, austrohungarian ...</td>\n",
       "      <td>[germany, italy, germany, germany, united stat...</td>\n",
       "    </tr>\n",
       "    <tr>\n",
       "      <th>2</th>\n",
       "      <td>(acting, guarantees, territory, secret, part, ...</td>\n",
       "      <td>[germany, republics, estonia, latvia, lithuania]</td>\n",
       "      <td>[germany, estonia, latvia, lithuania]</td>\n",
       "    </tr>\n",
       "    <tr>\n",
       "      <th>3</th>\n",
       "      <td>(well, eastern, poland, would, remain, soviet,...</td>\n",
       "      <td>[poland, soviet, finland, soviet]</td>\n",
       "      <td>[poland, finland]</td>\n",
       "    </tr>\n",
       "    <tr>\n",
       "      <th>4</th>\n",
       "      <td>(staunch, finnish, resistance, became, known, ...</td>\n",
       "      <td>[finnish, winter, germany, soviet union, defea...</td>\n",
       "      <td>[germany, netherlands, norway, france, france,...</td>\n",
       "    </tr>\n",
       "    <tr>\n",
       "      <th>5</th>\n",
       "      <td>(defeat, montgomery, el, alamein, first, decis...</td>\n",
       "      <td>[first, germany army, soviet, united states, b...</td>\n",
       "      <td>[united states, morocco, algeria]</td>\n",
       "    </tr>\n",
       "    <tr>\n",
       "      <th>6</th>\n",
       "      <td>(july, allies, invaded, sicily, preparation, a...</td>\n",
       "      <td>[july, italy, winston churchill called, septem...</td>\n",
       "      <td>[italy, italy, italy, italy, france, germany, ...</td>\n",
       "    </tr>\n",
       "    <tr>\n",
       "      <th>7</th>\n",
       "      <td>(australian, city, darwin, first, attack, fore...</td>\n",
       "      <td>[australian, darwin, first, australian, first,...</td>\n",
       "      <td>[united states, japan, japan, japan, india, ja...</td>\n",
       "    </tr>\n",
       "    <tr>\n",
       "      <th>8</th>\n",
       "      <td>(several, differing, views, exist, regarding, ...</td>\n",
       "      <td>[jews, night night, germans, third, jews, jews...</td>\n",
       "      <td>[poland, united states, mexico, germany, unite...</td>\n",
       "    </tr>\n",
       "    <tr>\n",
       "      <th>9</th>\n",
       "      <td>(yuri, gagarin, us, pulled, ahead, eventually,...</td>\n",
       "      <td>[yuri, apollo, apollo, july, five, apollo, sov...</td>\n",
       "      <td>[united states, russia, japan, canada, russia]</td>\n",
       "    </tr>\n",
       "    <tr>\n",
       "      <th>12</th>\n",
       "      <td>(large, systems, universities, efforts, became...</td>\n",
       "      <td>[two, al gore, america, tim bernerslee, centur...</td>\n",
       "      <td>[india]</td>\n",
       "    </tr>\n",
       "  </tbody>\n",
       "</table>\n",
       "</div>"
      ],
      "text/plain": [
       "                                             sentence  \\\n",
       "1   (caused, war, see, stabintheback, legend, germ...   \n",
       "2   (acting, guarantees, territory, secret, part, ...   \n",
       "3   (well, eastern, poland, would, remain, soviet,...   \n",
       "4   (staunch, finnish, resistance, became, known, ...   \n",
       "5   (defeat, montgomery, el, alamein, first, decis...   \n",
       "6   (july, allies, invaded, sicily, preparation, a...   \n",
       "7   (australian, city, darwin, first, attack, fore...   \n",
       "8   (several, differing, views, exist, regarding, ...   \n",
       "9   (yuri, gagarin, us, pulled, ahead, eventually,...   \n",
       "12  (large, systems, universities, efforts, became...   \n",
       "\n",
       "                                             entities  \\\n",
       "1   [germany, europe, yugoslavia, austrohungarian ...   \n",
       "2    [germany, republics, estonia, latvia, lithuania]   \n",
       "3                   [poland, soviet, finland, soviet]   \n",
       "4   [finnish, winter, germany, soviet union, defea...   \n",
       "5   [first, germany army, soviet, united states, b...   \n",
       "6   [july, italy, winston churchill called, septem...   \n",
       "7   [australian, darwin, first, australian, first,...   \n",
       "8   [jews, night night, germans, third, jews, jews...   \n",
       "9   [yuri, apollo, apollo, july, five, apollo, sov...   \n",
       "12  [two, al gore, america, tim bernerslee, centur...   \n",
       "\n",
       "                                       countries_list  \n",
       "1   [germany, italy, germany, germany, united stat...  \n",
       "2               [germany, estonia, latvia, lithuania]  \n",
       "3                                   [poland, finland]  \n",
       "4   [germany, netherlands, norway, france, france,...  \n",
       "5                   [united states, morocco, algeria]  \n",
       "6   [italy, italy, italy, italy, france, germany, ...  \n",
       "7   [united states, japan, japan, japan, india, ja...  \n",
       "8   [poland, united states, mexico, germany, unite...  \n",
       "9      [united states, russia, japan, canada, russia]  \n",
       "12                                            [india]  "
      ]
     },
     "execution_count": 117,
     "metadata": {},
     "output_type": "execute_result"
    }
   ],
   "source": [
    "# Filter out sentences that don’t have any character entities\n",
    "\n",
    "df_sentences_filtered = df_sentences[df_sentences['countries_list'].map(len) > 0]\n",
    "\n",
    "df_sentences_filtered.tail(10)"
   ]
  },
  {
   "cell_type": "code",
   "execution_count": 118,
   "id": "4ff4ce3b-42f1-47b5-95ee-10e4c3713bd0",
   "metadata": {},
   "outputs": [
    {
     "name": "stderr",
     "output_type": "stream",
     "text": [
      "C:\\Users\\Kathe\\AppData\\Local\\Temp\\ipykernel_1120\\140596092.py:3: SettingWithCopyWarning: \n",
      "A value is trying to be set on a copy of a slice from a DataFrame.\n",
      "Try using .loc[row_indexer,col_indexer] = value instead\n",
      "\n",
      "See the caveats in the documentation: https://pandas.pydata.org/pandas-docs/stable/user_guide/indexing.html#returning-a-view-versus-a-copy\n",
      "  df_sentences_filtered['countries_list'] = df_sentences_filtered['countries_list'].apply(lambda x: [item.split()[0]\n"
     ]
    }
   ],
   "source": [
    "# Take only the first name of the characters\n",
    "\n",
    "df_sentences_filtered['countries_list'] = df_sentences_filtered['countries_list'].apply(lambda x: [item.split()[0]\n",
    "                                                                                                    for item in x])"
   ]
  },
  {
   "cell_type": "code",
   "execution_count": 119,
   "id": "b26e5119-7577-4574-b5fe-a9b97b4d5e73",
   "metadata": {},
   "outputs": [],
   "source": [
    "# Defining relationships\n",
    "\n",
    "# window size = 5 : this defines how many sentences will be looked at simultaneously\n",
    "relationships = [] # create an empty list\n",
    "\n",
    "for i in range(df_sentences_filtered.index[-1]):\n",
    "    end_i = min(i+5, df_sentences_filtered.index[-1])\n",
    "    char_list = sum((df_sentences_filtered.loc[i: end_i].countries_list), [])\n",
    "\n",
    "     # Remove duplicated characters that are next to each other\n",
    "    char_unique = [char_list[i] for i in range(len(char_list))]\n",
    "    if len(char_unique) > 1:\n",
    "        for idx, a in enumerate( char_unique[ :-1]):\n",
    "            b = char_unique[idx + 1]\n",
    "            relationships.append({\"source\": a, \"target\": b})    "
   ]
  },
  {
   "cell_type": "code",
   "execution_count": 120,
   "id": "4125cf62-df44-49be-bf0a-188fd4d2b721",
   "metadata": {},
   "outputs": [],
   "source": [
    "relationship_df = pd.DataFrame(relationships)"
   ]
  },
  {
   "cell_type": "code",
   "execution_count": 121,
   "id": "463a7cbb-efcc-4e0d-8e6c-591d92fa563a",
   "metadata": {},
   "outputs": [],
   "source": [
    "import numpy as np"
   ]
  },
  {
   "cell_type": "code",
   "execution_count": 122,
   "id": "aa71175e-bcdc-4371-9c5a-aea0e9149ad2",
   "metadata": {},
   "outputs": [
    {
     "data": {
      "text/html": [
       "<div>\n",
       "<style scoped>\n",
       "    .dataframe tbody tr th:only-of-type {\n",
       "        vertical-align: middle;\n",
       "    }\n",
       "\n",
       "    .dataframe tbody tr th {\n",
       "        vertical-align: top;\n",
       "    }\n",
       "\n",
       "    .dataframe thead th {\n",
       "        text-align: right;\n",
       "    }\n",
       "</style>\n",
       "<table border=\"1\" class=\"dataframe\">\n",
       "  <thead>\n",
       "    <tr style=\"text-align: right;\">\n",
       "      <th></th>\n",
       "      <th>source</th>\n",
       "      <th>target</th>\n",
       "    </tr>\n",
       "  </thead>\n",
       "  <tbody>\n",
       "    <tr>\n",
       "      <th>0</th>\n",
       "      <td>france</td>\n",
       "      <td>russia</td>\n",
       "    </tr>\n",
       "    <tr>\n",
       "      <th>1</th>\n",
       "      <td>germany</td>\n",
       "      <td>russia</td>\n",
       "    </tr>\n",
       "    <tr>\n",
       "      <th>2</th>\n",
       "      <td>germany</td>\n",
       "      <td>russia</td>\n",
       "    </tr>\n",
       "    <tr>\n",
       "      <th>3</th>\n",
       "      <td>russia</td>\n",
       "      <td>russia</td>\n",
       "    </tr>\n",
       "    <tr>\n",
       "      <th>4</th>\n",
       "      <td>germany</td>\n",
       "      <td>russia</td>\n",
       "    </tr>\n",
       "  </tbody>\n",
       "</table>\n",
       "</div>"
      ],
      "text/plain": [
       "    source  target\n",
       "0   france  russia\n",
       "1  germany  russia\n",
       "2  germany  russia\n",
       "3   russia  russia\n",
       "4  germany  russia"
      ]
     },
     "execution_count": 122,
     "metadata": {},
     "output_type": "execute_result"
    }
   ],
   "source": [
    "# Sort the cases with a- >b and b- >a\n",
    "relationships_df = pd.DataFrame(np.sort(relationship_df.values, axis = 1), columns = relationship_df.columns)\n",
    "relationships_df.head(5)"
   ]
  },
  {
   "cell_type": "markdown",
   "id": "bd11c6ed-32de-470a-b841-a038eaa4ee4b",
   "metadata": {},
   "source": [
    "**Filter GPE entities and match them with the cleaned countries list**"
   ]
  },
  {
   "cell_type": "markdown",
   "id": "28a8f1b2-e3a0-494d-891f-7dc8f5ee7989",
   "metadata": {},
   "source": [
    "**Create the list of each unique relationship by grouping them by each relationship between the two dfs and how many times they occur on the Wikipedia page**"
   ]
  },
  {
   "cell_type": "code",
   "execution_count": 125,
   "id": "6c5061f4-f1f3-4974-a4c1-bea338ad6802",
   "metadata": {},
   "outputs": [
    {
     "data": {
      "text/html": [
       "<div>\n",
       "<style scoped>\n",
       "    .dataframe tbody tr th:only-of-type {\n",
       "        vertical-align: middle;\n",
       "    }\n",
       "\n",
       "    .dataframe tbody tr th {\n",
       "        vertical-align: top;\n",
       "    }\n",
       "\n",
       "    .dataframe thead th {\n",
       "        text-align: right;\n",
       "    }\n",
       "</style>\n",
       "<table border=\"1\" class=\"dataframe\">\n",
       "  <thead>\n",
       "    <tr style=\"text-align: right;\">\n",
       "      <th></th>\n",
       "      <th>source</th>\n",
       "      <th>target</th>\n",
       "      <th>value</th>\n",
       "    </tr>\n",
       "  </thead>\n",
       "  <tbody>\n",
       "    <tr>\n",
       "      <th>39</th>\n",
       "      <td>japan</td>\n",
       "      <td>japan</td>\n",
       "      <td>90</td>\n",
       "    </tr>\n",
       "    <tr>\n",
       "      <th>30</th>\n",
       "      <td>japan</td>\n",
       "      <td>united</td>\n",
       "      <td>28</td>\n",
       "    </tr>\n",
       "    <tr>\n",
       "      <th>49</th>\n",
       "      <td>united</td>\n",
       "      <td>united</td>\n",
       "      <td>23</td>\n",
       "    </tr>\n",
       "    <tr>\n",
       "      <th>3</th>\n",
       "      <td>germany</td>\n",
       "      <td>germany</td>\n",
       "      <td>22</td>\n",
       "    </tr>\n",
       "    <tr>\n",
       "      <th>31</th>\n",
       "      <td>germany</td>\n",
       "      <td>japan</td>\n",
       "      <td>22</td>\n",
       "    </tr>\n",
       "    <tr>\n",
       "      <th>5</th>\n",
       "      <td>germany</td>\n",
       "      <td>united</td>\n",
       "      <td>22</td>\n",
       "    </tr>\n",
       "    <tr>\n",
       "      <th>21</th>\n",
       "      <td>france</td>\n",
       "      <td>france</td>\n",
       "      <td>20</td>\n",
       "    </tr>\n",
       "    <tr>\n",
       "      <th>10</th>\n",
       "      <td>france</td>\n",
       "      <td>germany</td>\n",
       "      <td>20</td>\n",
       "    </tr>\n",
       "    <tr>\n",
       "      <th>71</th>\n",
       "      <td>vietnam</td>\n",
       "      <td>vietnam</td>\n",
       "      <td>18</td>\n",
       "    </tr>\n",
       "    <tr>\n",
       "      <th>44</th>\n",
       "      <td>india</td>\n",
       "      <td>japan</td>\n",
       "      <td>18</td>\n",
       "    </tr>\n",
       "  </tbody>\n",
       "</table>\n",
       "</div>"
      ],
      "text/plain": [
       "     source   target  value\n",
       "39    japan    japan     90\n",
       "30    japan   united     28\n",
       "49   united   united     23\n",
       "3   germany  germany     22\n",
       "31  germany    japan     22\n",
       "5   germany   united     22\n",
       "21   france   france     20\n",
       "10   france  germany     20\n",
       "71  vietnam  vietnam     18\n",
       "44    india    japan     18"
      ]
     },
     "execution_count": 125,
     "metadata": {},
     "output_type": "execute_result"
    }
   ],
   "source": [
    "relationships_df[\"value\"] = 1\n",
    "relationships_df = relationships_df.groupby([\"source\",\"target\"], sort=False, as_index=False).sum().sort_values(by=\"value\", ascending=False)\n",
    "\n",
    "relationships_df.head(10)"
   ]
  },
  {
   "cell_type": "markdown",
   "id": "0d78a790-a87c-45b8-bb2d-3494afdc1622",
   "metadata": {},
   "source": [
    "**Print the relationship chart between the two**"
   ]
  },
  {
   "cell_type": "code",
   "execution_count": 134,
   "id": "fa404fe9-4be6-4dff-ad5b-9c3394632ad2",
   "metadata": {},
   "outputs": [],
   "source": [
    "relationships_df=relationships_df.loc[relationships_df[\"source\"] != relationships_df[\"target\"]]"
   ]
  },
  {
   "cell_type": "code",
   "execution_count": 136,
   "id": "244f24bb-fe2d-4770-8447-fab2e3ab7c87",
   "metadata": {},
   "outputs": [
    {
     "data": {
      "text/html": [
       "<div>\n",
       "<style scoped>\n",
       "    .dataframe tbody tr th:only-of-type {\n",
       "        vertical-align: middle;\n",
       "    }\n",
       "\n",
       "    .dataframe tbody tr th {\n",
       "        vertical-align: top;\n",
       "    }\n",
       "\n",
       "    .dataframe thead th {\n",
       "        text-align: right;\n",
       "    }\n",
       "</style>\n",
       "<table border=\"1\" class=\"dataframe\">\n",
       "  <thead>\n",
       "    <tr style=\"text-align: right;\">\n",
       "      <th></th>\n",
       "      <th>source</th>\n",
       "      <th>target</th>\n",
       "      <th>value</th>\n",
       "    </tr>\n",
       "  </thead>\n",
       "  <tbody>\n",
       "    <tr>\n",
       "      <th>30</th>\n",
       "      <td>japan</td>\n",
       "      <td>united</td>\n",
       "      <td>28</td>\n",
       "    </tr>\n",
       "    <tr>\n",
       "      <th>31</th>\n",
       "      <td>germany</td>\n",
       "      <td>japan</td>\n",
       "      <td>22</td>\n",
       "    </tr>\n",
       "    <tr>\n",
       "      <th>5</th>\n",
       "      <td>germany</td>\n",
       "      <td>united</td>\n",
       "      <td>22</td>\n",
       "    </tr>\n",
       "    <tr>\n",
       "      <th>10</th>\n",
       "      <td>france</td>\n",
       "      <td>germany</td>\n",
       "      <td>20</td>\n",
       "    </tr>\n",
       "    <tr>\n",
       "      <th>44</th>\n",
       "      <td>india</td>\n",
       "      <td>japan</td>\n",
       "      <td>18</td>\n",
       "    </tr>\n",
       "    <tr>\n",
       "      <th>...</th>\n",
       "      <td>...</td>\n",
       "      <td>...</td>\n",
       "      <td>...</td>\n",
       "    </tr>\n",
       "    <tr>\n",
       "      <th>13</th>\n",
       "      <td>estonia</td>\n",
       "      <td>latvia</td>\n",
       "      <td>3</td>\n",
       "    </tr>\n",
       "    <tr>\n",
       "      <th>12</th>\n",
       "      <td>estonia</td>\n",
       "      <td>germany</td>\n",
       "      <td>3</td>\n",
       "    </tr>\n",
       "    <tr>\n",
       "      <th>7</th>\n",
       "      <td>poland</td>\n",
       "      <td>spain</td>\n",
       "      <td>2</td>\n",
       "    </tr>\n",
       "    <tr>\n",
       "      <th>6</th>\n",
       "      <td>germany</td>\n",
       "      <td>spain</td>\n",
       "      <td>2</td>\n",
       "    </tr>\n",
       "    <tr>\n",
       "      <th>0</th>\n",
       "      <td>france</td>\n",
       "      <td>russia</td>\n",
       "      <td>1</td>\n",
       "    </tr>\n",
       "  </tbody>\n",
       "</table>\n",
       "<p>69 rows × 3 columns</p>\n",
       "</div>"
      ],
      "text/plain": [
       "     source   target  value\n",
       "30    japan   united     28\n",
       "31  germany    japan     22\n",
       "5   germany   united     22\n",
       "10   france  germany     20\n",
       "44    india    japan     18\n",
       "..      ...      ...    ...\n",
       "13  estonia   latvia      3\n",
       "12  estonia  germany      3\n",
       "7    poland    spain      2\n",
       "6   germany    spain      2\n",
       "0    france   russia      1\n",
       "\n",
       "[69 rows x 3 columns]"
      ]
     },
     "execution_count": 136,
     "metadata": {},
     "output_type": "execute_result"
    }
   ],
   "source": [
    "relationships_df"
   ]
  },
  {
   "cell_type": "markdown",
   "id": "816c53f1-28fa-4424-afda-6436d84b995f",
   "metadata": {},
   "source": [
    "**Save to CSV file to folder**"
   ]
  },
  {
   "cell_type": "code",
   "execution_count": 138,
   "id": "704fe6e1-8655-4084-aa20-db0cba385d71",
   "metadata": {},
   "outputs": [],
   "source": [
    "file_path = r\"C:\\Users\\Kathe\\Documents\\Project 1 - Visualizations for Data Analysts\\relationships_count.csv\"\n",
    "relationships_df.to_csv(file_path, index=False)"
   ]
  },
  {
   "cell_type": "code",
   "execution_count": null,
   "id": "d405234e-7df6-4968-9b56-fa9a9cc7e37f",
   "metadata": {},
   "outputs": [],
   "source": []
  }
 ],
 "metadata": {
  "kernelspec": {
   "display_name": "Python (20th_century)",
   "language": "python",
   "name": "20th_century"
  },
  "language_info": {
   "codemirror_mode": {
    "name": "ipython",
    "version": 3
   },
   "file_extension": ".py",
   "mimetype": "text/x-python",
   "name": "python",
   "nbconvert_exporter": "python",
   "pygments_lexer": "ipython3",
   "version": "3.12.3"
  }
 },
 "nbformat": 4,
 "nbformat_minor": 5
}
